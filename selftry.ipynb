{
  "nbformat": 4,
  "nbformat_minor": 0,
  "metadata": {
    "colab": {
      "provenance": [],
      "mount_file_id": "1sqmu1m9_k-KSCcermQWL9vEeUJaus0Za",
      "authorship_tag": "ABX9TyPVE6e4k2Na4zDug0XiFeni",
      "include_colab_link": true
    },
    "kernelspec": {
      "name": "python3",
      "display_name": "Python 3"
    },
    "language_info": {
      "name": "python"
    }
  },
  "cells": [
    {
      "cell_type": "markdown",
      "metadata": {
        "id": "view-in-github",
        "colab_type": "text"
      },
      "source": [
        "<a href=\"https://colab.research.google.com/github/asf72/selftry/blob/main/selftry.ipynb\" target=\"_parent\"><img src=\"https://colab.research.google.com/assets/colab-badge.svg\" alt=\"Open In Colab\"/></a>"
      ]
    },
    {
      "cell_type": "code",
      "execution_count": 1,
      "metadata": {
        "colab": {
          "base_uri": "https://localhost:8080/"
        },
        "id": "9qTyzaGSrgKK",
        "outputId": "29a55f8d-a3e7-46cf-de40-e4d20fd47758"
      },
      "outputs": [
        {
          "output_type": "stream",
          "name": "stdout",
          "text": [
            "Input the radius of the circle : 4\n",
            "The area of the circle with radius 4.0 is: 50.26548245743669\n"
          ]
        }
      ],
      "source": [
        "from math import pi\n",
        "\n",
        "r = float(input(\"Input the radius of the circle : \"))\n",
        "\n",
        "area = pi * r ** 2\n",
        "\n",
        "print(\"The area of the circle with radius \" + str(r) + \" is: \" + str(area))\n"
      ]
    }
  ]
}