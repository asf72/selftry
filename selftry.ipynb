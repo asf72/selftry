{
  "nbformat": 4,
  "nbformat_minor": 0,
  "metadata": {
    "colab": {
      "provenance": [],
      "mount_file_id": "1sqmu1m9_k-KSCcermQWL9vEeUJaus0Za",
      "authorship_tag": "ABX9TyPSh8LijWMVgVxHW8EO2in1",
      "include_colab_link": true
    },
    "kernelspec": {
      "name": "python3",
      "display_name": "Python 3"
    },
    "language_info": {
      "name": "python"
    }
  },
  "cells": [
    {
      "cell_type": "markdown",
      "metadata": {
        "id": "view-in-github",
        "colab_type": "text"
      },
      "source": [
        "<a href=\"https://colab.research.google.com/github/asf72/selftry/blob/main/selftry.ipynb\" target=\"_parent\"><img src=\"https://colab.research.google.com/assets/colab-badge.svg\" alt=\"Open In Colab\"/></a>"
      ]
    },
    {
      "cell_type": "code",
      "execution_count": 2,
      "metadata": {
        "colab": {
          "base_uri": "https://localhost:8080/"
        },
        "id": "9qTyzaGSrgKK",
        "outputId": "c575abd9-64db-465c-b058-5c8d6ae822a0"
      },
      "outputs": [
        {
          "output_type": "stream",
          "name": "stdout",
          "text": [
            "Lazy Programmer\n"
          ]
        }
      ],
      "source": [
        "print(\"Lazy Programmer\")"
      ]
    }
  ]
}